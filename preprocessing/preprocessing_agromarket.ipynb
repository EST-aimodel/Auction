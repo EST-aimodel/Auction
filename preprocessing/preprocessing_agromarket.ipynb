{
 "cells": [
  {
   "cell_type": "markdown",
   "metadata": {},
   "source": [
    "## 엑셀 병합\n",
    "선택한 폴더 안에 있는 모든 엑셀 파일의 칼럼 명이 같다면 병합 진행"
   ]
  },
  {
   "cell_type": "code",
   "execution_count": 2,
   "metadata": {},
   "outputs": [
    {
     "name": "stdout",
     "output_type": "stream",
     "text": [
      "선택한 폴더: C:/projects/ClimateMarketForecast/data/raw/agromarket_merged\n",
      "엑셀 파일 리스트: ['merged_agromarket_2019_Q1.xlsx', 'merged_agromarket_2019_Q2.xlsx', 'merged_agromarket_2019_Q3.xlsx', 'merged_agromarket_2019_Q4.xlsx', 'merged_agromarket_2020_Q1.xlsx', 'merged_agromarket_2020_Q2.xlsx', 'merged_agromarket_2020_Q3.xlsx', 'merged_agromarket_2020_Q4.xlsx', 'merged_agromarket_2021_Q1.xlsx', 'merged_agromarket_2021_Q2.xlsx', 'merged_agromarket_2021_Q3.xlsx', 'merged_agromarket_2021_Q4.xlsx', 'merged_agromarket_2022_Q1.xlsx', 'merged_agromarket_2022_Q2.xlsx', 'merged_agromarket_2022_Q3.xlsx', 'merged_agromarket_2022_Q4.xlsx', 'merged_agromarket_2023_Q1.xlsx', 'merged_agromarket_2023_Q2.xlsx', 'merged_agromarket_2023_Q3.xlsx', 'merged_agromarket_2023_Q4.xlsx', 'merged_agromarket_2024_Q1.xlsx', 'merged_agromarket_2024_Q2.xlsx', 'merged_agromarket_2024_Q3.xlsx', 'merged_agromarket_2024_Q4.xlsx']\n",
      "병합된 데이터프레임 크기: (15305393, 8)\n"
     ]
    }
   ],
   "source": [
    "import os\n",
    "import pandas as pd\n",
    "from tkinter import Tk, filedialog\n",
    "\n",
    "# 현재 스크립트 상위 폴더 경로\n",
    "script_dir = os.getcwd()\n",
    "parent_dir = os.path.dirname(script_dir)\n",
    "data_dir = os.path.join(parent_dir, 'data')\n",
    "raw_dir = os.path.join(data_dir, 'raw')\n",
    "merged_dir = os.path.join(raw_dir, 'agromarket_merged')\n",
    "\n",
    "# Tkinter GUI 비활성화\n",
    "root = Tk()\n",
    "root.withdraw()  # Tkinter GUI 창 숨기기\n",
    "root.attributes('-topmost', True)  # Tk 창을 맨 위로\n",
    "\n",
    "# 폴더 선택 다이얼로그를 raw_dir로 기본 설정\n",
    "folder_path = filedialog.askdirectory(title=\"폴더를 선택하세요\", initialdir=raw_dir)\n",
    "\n",
    "# 폴더 안의 모든 .xls, .xlsx 파일 리스트\n",
    "excel_files = [f for f in os.listdir(folder_path) \n",
    "               if f.endswith('.xls') or f.endswith('.xlsx')]\n",
    "\n",
    "all_dfs = []\n",
    "columns_reference = None  # 모든 파일의 칼럼명이 같은지 비교하기 위한 레퍼런스\n",
    "\n",
    "for excel_file in excel_files:\n",
    "    file_path = os.path.join(folder_path, excel_file)\n",
    "    df = pd.read_excel(file_path)\n",
    "    \n",
    "    # 첫 번째 파일의 칼럼을 기준으로 삼음\n",
    "    if columns_reference is None:\n",
    "        columns_reference = list(df.columns)\n",
    "    else:\n",
    "        # 칼럼이 동일한지 검사\n",
    "        if list(df.columns) != columns_reference:\n",
    "            print(f\"[주의] 칼럼 불일치 발생: {excel_file}\")\n",
    "            print(f\"기준 칼럼   : {columns_reference}\")\n",
    "            print(f\"현재 파일 칼럼: {list(df.columns)}\\n\")\n",
    "            raise ValueError(\"칼럼명이 일치하지 않아 병합할 수 없습니다.\")\n",
    "    \n",
    "    # 확인 후 문제 없으면 병합 리스트에 추가\n",
    "    all_dfs.append(df)\n",
    "\n",
    "# 문제없이 읽힌 모든 DataFrame 병합\n",
    "merged_df = pd.concat(all_dfs, ignore_index=True)\n",
    "\n",
    "merged_csv_path = os.path.join(merged_dir, 'merged_agromarket.csv')\n",
    "merged_df.to_csv(merged_csv_path)\n",
    "\n",
    "print(\"선택한 폴더:\", folder_path)\n",
    "print(\"엑셀 파일 리스트:\", excel_files)\n",
    "print(\"병합된 데이터프레임 크기:\", merged_df.shape)\n"
   ]
  },
  {
   "cell_type": "markdown",
   "metadata": {},
   "source": [
    "## 전처리\n",
    "- 법인 칼럼 제거\n",
    "- 총 물량 상위 30개 품목만 필터링\n",
    "- 0 이하 데이터 제거\n",
    "- '부류', '품목' 칼럼의 결측치 데이터 삭제\n",
    "- csv로 저장"
   ]
  },
  {
   "cell_type": "code",
   "execution_count": 12,
   "metadata": {},
   "outputs": [],
   "source": [
    "import pandas as pd\n",
    "\n",
    "# CSV 불러오기\n",
    "df = pd.read_csv('../data/raw/agromarket_merged/merged_agromarket.csv', index_col=False)\n",
    "\n",
    "# 1) '법인' 칼럼 drop\n",
    "df.drop(columns=['법인'], inplace=True)\n",
    "\n",
    "# 2) '품목' 별 '물량(kg)' 상위 30개 품목만 필터링\n",
    "#    - 품목별 총 물량을 합산한 다음 상위 30개 품목만 추출\n",
    "top30_items = (df.groupby('품목')['물량(kg)']\n",
    "               .sum()\n",
    "               .sort_values(ascending=False)\n",
    "               .head(30)\n",
    "               .index\n",
    "              )\n",
    "df = df[df['품목'].isin(top30_items)]\n",
    "\n",
    "# 3) 0 이하 데이터(0과 음수 값) 제거\n",
    "df = df[(df['물량(kg)'] > 0) & (df['금액(원)'] > 0)]\n",
    "\n",
    "# 4) '부류', '품목' 칼럼의 결측치 데이터 삭제\n",
    "df.dropna(subset=['부류', '품목'], inplace=True)\n",
    "\n",
    "# CSV로 저장\n",
    "df.to_csv('../data/processed/preprocessed_agromarket.csv')"
   ]
  },
  {
   "cell_type": "markdown",
   "metadata": {},
   "source": [
    "## DB 저장"
   ]
  },
  {
   "cell_type": "code",
   "execution_count": null,
   "metadata": {},
   "outputs": [],
   "source": []
  }
 ],
 "metadata": {
  "kernelspec": {
   "display_name": "base",
   "language": "python",
   "name": "python3"
  },
  "language_info": {
   "codemirror_mode": {
    "name": "ipython",
    "version": 3
   },
   "file_extension": ".py",
   "mimetype": "text/x-python",
   "name": "python",
   "nbconvert_exporter": "python",
   "pygments_lexer": "ipython3",
   "version": "3.12.4"
  }
 },
 "nbformat": 4,
 "nbformat_minor": 2
}
